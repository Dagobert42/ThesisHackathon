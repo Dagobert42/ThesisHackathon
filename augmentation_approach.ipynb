{
 "cells": [
  {
   "cell_type": "code",
   "execution_count": null,
   "metadata": {},
   "outputs": [],
   "source": [
    "from helpers import *\n",
    "\n",
    "path = \"data/ner_annotations.json\"\n",
    "sentences, all_labels, label_list, label_dict = load_data(path)"
   ]
  },
  {
   "cell_type": "code",
   "execution_count": null,
   "metadata": {},
   "outputs": [],
   "source": [
    "%env OPENAI_API_KEY=\"\""
   ]
  },
  {
   "cell_type": "code",
   "execution_count": null,
   "metadata": {},
   "outputs": [],
   "source": [
    "import openai\n",
    "import os\n",
    "openai.organization = \"org-KvmMsEbe5NcCxonSirXVjXmm\"\n",
    "openai.api_key = "
   ]
  },
  {
   "cell_type": "code",
   "execution_count": null,
   "metadata": {},
   "outputs": [],
   "source": [
    "all_exemplars = [\n",
    "    str('\\n'.join(list(set(l)))) + \"\\n\\n\" + tag_exemplar(e, l)\n",
    "    for (e, l) in zip(sentences, all_labels)\n",
    "    ]"
   ]
  },
  {
   "cell_type": "code",
   "execution_count": null,
   "metadata": {},
   "outputs": [],
   "source": [
    "responses = []\n",
    "log = {\n",
    "    \"n_responses\": 0,\n",
    "    \"completion_tokens\": 0,\n",
    "    \"prompt_tokens\": 0,\n",
    "    \"total_tokens\": 0,\n",
    "    \"errors\" : []\n",
    "    }"
   ]
  },
  {
   "cell_type": "code",
   "execution_count": null,
   "metadata": {},
   "outputs": [],
   "source": [
    "seed_class = \"apparatus-property-type\"\n",
    "class_exemplars = [\n",
    "    (sentence, labels)\n",
    "    for sentence, labels in zip(sentences, all_labels)\n",
    "    if seed_class in labels\n",
    "    ]"
   ]
  },
  {
   "cell_type": "code",
   "execution_count": 20,
   "metadata": {},
   "outputs": [
    {
     "name": "stdout",
     "output_type": "stream",
     "text": [
      "You are given this set of entities:\n",
      "number\n",
      "meta\n",
      "apparatus-property-type\n",
      "unspecified-material\n",
      "apparatus-unit\n",
      "operation\n",
      "precursor\n",
      "condition-unit\n",
      "synthesis-apparatus\n",
      "material-descriptor\n",
      "brand\n",
      "\n",
      "The entities are tagged in the examples in an XML-style.\n",
      "\n",
      "Example 1: Then , the <meta> electrical wire explosion </meta> ( <synthesis-apparatus> NTi - mini P </synthesis-apparatus> , <brand> Nano Tech </brand> , Korea ) was <operation> conducted </operation> at a <apparatus-property-type> feeding distance </apparatus-property-type> of <number> 40 </number> <apparatus-unit> mm </apparatus-unit> and a charge voltage of <number> 320 </number> <condition-unit> V </condition-unit> in the <precursor> Si </precursor> <material-descriptor> nanoparticles - dispersed suspension </material-descriptor>.\n",
      "\n",
      "Example 2: The <unspecified-material> mixtures </unspecified-material> were then <operation> transferred </operation> to <synthesis-apparatus> cylindrical PVC molds </synthesis-apparatus> ( <apparatus-property-type> diameter </apparatus-property-type> <number> 35 </number> <apparatus-unit> mm </apparatus-unit> , <apparatus-property-type> height </apparatus-property-type> <number> 70 </number> <apparatus-unit> mm </apparatus-unit> ) , and <operation> vibrated </operation> for <number> 2 </number> <condition-unit> min </condition-unit> to <operation> remove </operation> entrapped air bubbles.\n",
      "\n",
      "Give a definition of each entity type and explain why the words from the examples belong to this entity.\n",
      "\n"
     ]
    }
   ],
   "source": [
    "exemplar1_id = 5\n",
    "exemplar2_id = 10\n",
    "\n",
    "labels1 = class_exemplars[exemplar1_id][1]\n",
    "exemplar1 = tag_exemplar(class_exemplars[exemplar1_id][0], labels1)\n",
    "labels2 = class_exemplars[exemplar2_id][1]\n",
    "exemplar2 = tag_exemplar(class_exemplars[exemplar2_id][0], labels2)\n",
    "\n",
    "context_prompt = create_context_prompt(\n",
    "    exemplar1,\n",
    "    labels1,\n",
    "    exemplar2,\n",
    "    labels2,\n",
    "    )\n",
    "print(context_prompt)"
   ]
  },
  {
   "cell_type": "code",
   "execution_count": null,
   "metadata": {},
   "outputs": [],
   "source": [
    "context = openai.ChatCompletion.create(\n",
    "    model=\"gpt-3.5-turbo\",\n",
    "    messages=[{\"role\" : \"user\", \"content\" : context_prompt}],\n",
    "    max_tokens=1000,\n",
    "    temperature=0.7,\n",
    "    n=1\n",
    "    )\n",
    "print(context)"
   ]
  },
  {
   "cell_type": "code",
   "execution_count": null,
   "metadata": {},
   "outputs": [],
   "source": [
    "print(context[\"choices\"][0][\"message\"][\"content\"])"
   ]
  },
  {
   "cell_type": "code",
   "execution_count": null,
   "metadata": {},
   "outputs": [],
   "source": [
    "system_prompt = \"Your job is to assist with data augmentation in the material synthesis domain.\"\n",
    "augmentation_prompt = \"Produce new sentences that are similar to the given examples. Tag all entities in an XML-style.\""
   ]
  },
  {
   "cell_type": "code",
   "execution_count": null,
   "metadata": {},
   "outputs": [],
   "source": [
    "try:\n",
    "    augmentations = openai.ChatCompletion.create(\n",
    "        model=\"gpt-3.5-turbo\",\n",
    "        messages=[\n",
    "            {\"role\" : \"user\", \"content\" : context_prompt},\n",
    "            {\"role\" : \"assistant\", \"content\" : context[\"choices\"][0][\"message\"][\"content\"]},\n",
    "            {\"role\" : \"system\", \"content\" : system_prompt},\n",
    "            {\"role\" : \"user\", \"content\" : augmentation_prompt},\n",
    "            ],\n",
    "        max_tokens=1000,\n",
    "        temperature=0.7,\n",
    "        n=10\n",
    "        )\n",
    "    print(augmentations)\n",
    "    responses.append(augmentations)\n",
    "    log[\"n_responses\"] += 1\n",
    "    log[\"completion_tokens\"] += augmentations[\"usage\"][\"completion_tokens\"]\n",
    "    log[\"prompt_tokens\"] += augmentations[\"usage\"][\"prompt_tokens\"]\n",
    "    log[\"total_tokens\"] += augmentations[\"usage\"][\"total_tokens\"]\n",
    "except Exception as e:\n",
    "    print(\"Request failed with Exception:\", e)\n",
    "    log[\"errors\"].append(e)"
   ]
  },
  {
   "cell_type": "code",
   "execution_count": 19,
   "metadata": {},
   "outputs": [
    {
     "name": "stdout",
     "output_type": "stream",
     "text": [
      "['Example', 'The', 'chemical', 'reaction', 'was', 'performed', 'using', 'a', 'glass', 'reactor', '(', 'ABC', 'Corp', ',', 'USA', ')', 'with', 'a', 'stirring', 'speed', 'of', '500', 'RPM', 'and', 'a', 'temperature', 'of', '100', '°C', '.', 'The', 'A', 'powder', 'was', 'mixed', 'with', 'a', 'B', 'liquid']\n",
      "['null', 'null', 'meta', 'meta', 'null', 'operation', 'null', 'null', 'synthesis-apparatus', 'synthesis-apparatus', 'null', 'brand', 'brand', 'null', 'null', 'null', 'null', 'null', 'apparatus-property-type', 'apparatus-property-type', 'null', 'number', 'apparatus-unit', 'null', 'null', 'apparatus-property-type', 'null', 'number', 'condition-unit', 'null', 'null', 'precursor', 'material-descriptor', 'null', 'null', 'null', 'null', 'precursor', 'material-descriptor']\n",
      "['Example', 'The', 'ingredients', 'were', 'added', 'to', 'a', 'stainless', 'steel', 'vessel', '(', 'volume', '500', 'mL', ')', 'and', 'heated', 'at', 'a', 'temperature', 'of', '80', '°C', 'for', '2', 'hours', 'to', 'initiate', 'the', 'polymerization', '.']\n",
      "['null', 'null', 'unspecified-material', 'null', 'operation', 'null', 'null', 'synthesis-apparatus', 'synthesis-apparatus', 'synthesis-apparatus', 'null', 'apparatus-property-type', 'number', 'apparatus-unit', 'null', 'null', 'operation', 'null', 'null', 'apparatus-property-type', 'null', 'number', 'condition-unit', 'null', 'number', 'condition-unit', 'null', 'operation', 'null', 'precursor', 'null']\n",
      "['Example', 'The', 'chemical', 'reaction', 'was', 'performed', 'using', 'the', 'reactor', 'vessel', '(', 'ABC', 'Company', ',', 'USA', ')', 'at', 'a', 'temperature', 'of', '75', '°C', 'and', 'a', 'pressure', 'of', '2', 'atm', 'with', 'a', 'metal', 'catalyst']\n",
      "['null', 'null', 'meta', 'meta', 'null', 'operation', 'null', 'null', 'synthesis-apparatus', 'synthesis-apparatus', 'null', 'brand', 'brand', 'null', 'null', 'null', 'null', 'null', 'apparatus-property-type', 'null', 'number', 'apparatus-unit', 'null', 'null', 'apparatus-property-type', 'null', 'number', 'condition-unit', 'null', 'null', 'precursor', 'precursor']\n",
      "['Example', 'The', 'chemical', 'components', 'were', 'mixed', 'in', 'the', 'stirring', 'flask', '(', 'volume', '50', 'mL', ')', 'and', 'heated', 'for', '3', 'hours', 'at', 'a', 'temperature', 'of', '100', '°C', 'to', 'initiate', 'the', 'reaction']\n",
      "['null', 'null', 'unspecified-material', 'unspecified-material', 'null', 'operation', 'null', 'null', 'synthesis-apparatus', 'synthesis-apparatus', 'null', 'apparatus-property-type', 'number', 'apparatus-unit', 'null', 'null', 'operation', 'null', 'number', 'condition-unit', 'null', 'null', 'apparatus-property-type', 'null', 'number', 'apparatus-unit', 'null', 'operation', 'null', 'null']\n",
      "['Example', 'The', 'material', 'synthesis', 'process', 'was', 'carried', 'out', 'using', 'the', 'ball', 'milling', 'machine', '(', 'XYZ', 'Corporation', ',', 'Japan', ')', 'at', 'a', 'rotation', 'speed', 'of', '500', 'rpm', 'for', '4', 'hours', 'to', 'obtain', 'nanoparticles']\n",
      "['null', 'null', 'meta', 'meta', 'null', 'null', 'operation', 'operation', 'null', 'null', 'synthesis-apparatus', 'synthesis-apparatus', 'synthesis-apparatus', 'null', 'brand', 'brand', 'null', 'null', 'null', 'null', 'null', 'apparatus-property-type', 'apparatus-property-type', 'null', 'number', 'apparatus-unit', 'null', 'number', 'condition-unit', 'null', 'operation', 'material-descriptor']\n",
      "['Example', 'The', 'ingredients', 'were', 'combined', 'in', 'the', 'mixing', 'bowl', '(', 'diameter', '20', 'cm', ',', 'height', '15', 'cm', ')', 'and', 'stirred', 'for', '10', 'minutes', 'to', 'achieve', 'a', 'homogeneous', 'mixture']\n",
      "['null', 'null', 'unspecified-material', 'null', 'operation', 'null', 'null', 'synthesis-apparatus', 'synthesis-apparatus', 'null', 'apparatus-property-type', 'number', 'apparatus-unit', 'null', 'apparatus-property-type', 'number', 'apparatus-unit', 'null', 'null', 'operation', 'null', 'number', 'condition-unit', 'null', 'operation', 'null', 'null', 'null']\n",
      "['Example', 'The', 'chemical', 'reaction', 'was', 'initiated', 'using', 'the', 'autoclave', '(', 'DEF', 'Ltd.', ',', 'Germany', ')', 'at', 'a', 'pressure', 'of', '5', 'bar', 'and', 'a', 'temperature', 'of', '120', '°C', 'with', 'a', 'liquid', 'reagent', '.']\n",
      "['null', 'null', 'meta', 'meta', 'null', 'operation', 'null', 'null', 'synthesis-apparatus', 'null', 'brand', 'brand', 'null', 'null', 'null', 'null', 'null', 'apparatus-property-type', 'null', 'number', 'condition-unit', 'null', 'null', 'apparatus-property-type', 'null', 'number', 'apparatus-unit', 'null', 'null', 'precursor', 'precursor', 'null']\n",
      "['Example', 'The', 'chemical', 'reaction', 'was', 'performed', 'using', 'a', 'stirring', 'hotplate', '(', 'LabTech', ',', 'USA', ')', 'at', 'a', 'temperature', 'of', '80', '°C', 'and', 'a', 'stirring', 'speed', 'of', '500', 'rpm', 'with', 'a', 'metal', 'catalyst']\n",
      "['null', 'null', 'meta', 'meta', 'null', 'operation', 'null', 'null', 'synthesis-apparatus', 'synthesis-apparatus', 'null', 'brand', 'null', 'null', 'null', 'null', 'null', 'apparatus-property-type', 'null', 'number', 'condition-unit', 'null', 'null', 'apparatus-property-type', 'apparatus-property-type', 'null', 'number', 'condition-unit', 'null', 'null', 'precursor', 'precursor']\n",
      "['Example', 'The', 'reactants', 'were', 'combined', 'in', 'a', 'glass', 'beaker', '(', 'diameter', '50', 'mm', ',', 'height', '100', 'mm', ')', 'and', 'stirred', 'for', '1', 'hour', 'to', 'ensure', 'proper', 'mixing.']\n",
      "['null', 'null', 'unspecified-material', 'null', 'operation', 'null', 'null', 'synthesis-apparatus', 'synthesis-apparatus', 'null', 'apparatus-property-type', 'number', 'apparatus-unit', 'null', 'apparatus-property-type', 'number', 'apparatus-unit', 'null', 'null', 'operation', 'null', 'number', 'condition-unit', 'null', 'operation', 'null', 'null']\n",
      "['Example', 'The', 'chemical', 'reaction', 'was', 'performed', 'using', 'a', 'NTi', '-', 'mini', 'P', '(', 'made', 'by', 'Nano', 'Tech', 'from', 'Korea', ')', 'with', 'a', 'mixing', 'speed', 'of', '200', 'rpm', '.', 'The', 'metal', 'oxide', 'nanoparticles', 'were', 'used', 'in', 'the', 'synthesis', 'process']\n",
      "['null', 'null', 'meta', 'meta', 'null', 'operation', 'null', 'null', 'synthesis-apparatus', 'synthesis-apparatus', 'synthesis-apparatus', 'synthesis-apparatus', 'null', 'null', 'null', 'brand', 'brand', 'null', 'null', 'null', 'null', 'null', 'apparatus-property-type', 'apparatus-property-type', 'null', 'number', 'apparatus-unit', 'null', 'null', 'precursor', 'precursor', 'material-descriptor', 'null', 'null', 'null', 'null', 'null', 'null']\n",
      "['Example', 'The', 'powder', 'samples', 'were', 'then', 'transferred', 'to', 'a', 'reactor', 'vessel', '(', 'with', 'a', 'capacity', 'of', '500', 'mL', ')', 'and', 'heated', 'at', 'a', 'temperature', 'of', '500', '°C', 'for', '4', 'hours', 'to', 'facilitate', 'the', 'chemical', 'reaction']\n",
      "['null', 'null', 'unspecified-material', 'unspecified-material', 'null', 'null', 'operation', 'null', 'null', 'synthesis-apparatus', 'synthesis-apparatus', 'null', 'null', 'null', 'apparatus-property-type', 'null', 'number', 'apparatus-unit', 'null', 'null', 'operation', 'null', 'null', 'null', 'null', 'number', 'condition-unit', 'null', 'number', 'condition-unit', 'null', 'null', 'null', 'null', 'null']\n",
      "['Example', 'The', 'polymerization', 'process', 'was', 'conducted', 'using', 'a', 'stirred-tank', 'reactor', '(', 'manufactured', 'by', 'ChemTech', ')', 'with', 'a', 'stirring', 'speed', 'of', '500', 'rpm', 'and', 'a', 'temperature', 'of', '80', '°C', '.', 'The', 'monomer', 'solution', 'was', 'used', 'as', 'the', 'starting', 'material']\n",
      "['null', 'null', 'meta', 'meta', 'null', 'operation', 'null', 'null', 'synthesis-apparatus', 'synthesis-apparatus', 'null', 'null', 'null', 'brand', 'null', 'null', 'null', 'apparatus-property-type', 'apparatus-property-type', 'null', 'number', 'apparatus-unit', 'null', 'null', 'apparatus-property-type', 'null', 'number', 'condition-unit', 'null', 'null', 'precursor', 'material-descriptor', 'null', 'null', 'null', 'null', 'null', 'null']\n",
      "['Example', 'The', 'raw', 'ingredients', 'were', 'combined', 'in', 'a', 'mixing', 'bowl', 'and', 'stirred', 'for', '10', 'minutes', 'at', 'a', 'speed', 'of', '200', 'rpm', '.', 'The', 'resulting', 'mixture', 'was', 'then', 'ready', 'for', 'further', 'processing']\n",
      "['null', 'null', 'unspecified-material', 'unspecified-material', 'null', 'operation', 'null', 'null', 'synthesis-apparatus', 'synthesis-apparatus', 'null', 'operation', 'null', 'number', 'condition-unit', 'null', 'null', 'apparatus-property-type', 'null', 'number', 'apparatus-unit', 'null', 'null', 'null', 'unspecified-material', 'null', 'null', 'null', 'null', 'null', 'null']\n",
      "['Example', 'The', 'crystallization', 'process', 'was', 'initiated', 'by', 'adding', 'a', 'seed', 'crystal', 'to', 'the', 'reaction', 'vessel', '(', 'made', 'by', 'LabPro', ')', 'containing', 'the', 'solvent', '.', 'The', 'temperature', 'was', 'lowered', 'to', '-20', '°C', 'over', 'a', 'period', 'of', '2', 'hours', '.']\n",
      "['null', 'null', 'meta', 'null', 'null', 'operation', 'null', 'null', 'null', 'precursor', 'precursor', 'null', 'null', 'synthesis-apparatus', 'synthesis-apparatus', 'null', 'null', 'null', 'brand', 'null', 'null', 'null', 'unspecified-material', 'null', 'null', 'null', 'null', 'operation', 'null', 'number', 'condition-unit', 'null', 'null', 'null', 'null', 'number', 'condition-unit', 'null']\n",
      "['Example', 'The', 'chemical', 'reaction', 'was', 'performed', 'using', 'the', 'NTi', '-', 'mini', 'P', '(', 'Nano', 'Tech', ',', 'Korea', ')', 'at', 'a', 'temperature', 'of', '80', '°C', 'and', 'a', 'pressure', 'of', '5', 'bar', 'with', 'Fe', 'nanoparticles']\n",
      "['null', 'null', 'meta', 'meta', 'null', 'operation', 'null', 'null', 'synthesis-apparatus', 'synthesis-apparatus', 'synthesis-apparatus', 'synthesis-apparatus', 'null', 'brand', 'brand', 'null', 'null', 'null', 'null', 'null', 'apparatus-property-type', 'null', 'number', 'apparatus-unit', 'null', 'null', 'apparatus-property-type', 'null', 'number', 'condition-unit', 'null', 'precursor', 'material-descriptor']\n",
      "['Example', 'The', 'reactants', 'were', 'then', 'combined', 'in', 'a', 'glass', 'beaker', '(', 'volume', '100', 'mL', ')', 'and', 'stirred', 'for', '1', 'hour', 'to', 'mix', 'them', 'thoroughly']\n",
      "['null', 'null', 'unspecified-material', 'null', 'null', 'operation', 'null', 'null', 'synthesis-apparatus', 'synthesis-apparatus', 'null', 'apparatus-property-type', 'number', 'apparatus-unit', 'null', 'null', 'operation', 'null', 'number', 'condition-unit', 'null', 'operation', 'null', 'null']\n",
      "['Example', 'The', 'polymerization', 'process', 'was', 'carried', 'out', 'in', 'a', 'stainless', 'steel', 'reactor', '(', 'ABC', 'Chemicals', ',', 'USA', ')', 'at', 'a', 'temperature', 'of', '120', '°C', 'and', 'a', 'pressure', 'of', '10', 'psi', 'using', 'monomer', 'solution']\n",
      "['null', 'null', 'meta', 'null', 'null', 'operation', 'operation', 'null', 'null', 'synthesis-apparatus', 'synthesis-apparatus', 'synthesis-apparatus', 'null', 'brand', 'brand', 'null', 'null', 'null', 'null', 'null', 'apparatus-property-type', 'null', 'number', 'apparatus-unit', 'null', 'null', 'apparatus-property-type', 'null', 'number', 'condition-unit', 'null', 'precursor', 'material-descriptor']\n",
      "['Example', 'The', 'ingredients', 'were', 'added', 'to', 'the', 'mixing', 'vessel', '(', 'capacity', '500', 'mL', ')', 'and', 'heated', 'at', 'a', 'temperature', 'of', '90', '°C', 'for', '2', 'hours']\n",
      "['null', 'null', 'unspecified-material', 'null', 'operation', 'null', 'null', 'synthesis-apparatus', 'synthesis-apparatus', 'null', 'apparatus-property-type', 'number', 'apparatus-unit', 'null', 'null', 'operation', 'null', 'null', 'apparatus-property-type', 'null', 'number', 'apparatus-unit', 'null', 'number', 'condition-unit']\n",
      "['Example', 'The', 'crystallization', 'process', 'was', 'initiated', 'in', 'a', 'reaction', 'flask', '(', 'XYZ', 'Labs', ',', 'Germany', ')', 'at', 'a', 'temperature', 'of', '-10', '°C', 'and', 'a', 'stirring', 'speed', 'of', '500', 'rpm', 'using', 'solute', 'solution', '.']\n",
      "['null', 'null', 'meta', 'null', 'null', 'operation', 'null', 'null', 'synthesis-apparatus', 'synthesis-apparatus', 'null', 'brand', 'brand', 'null', 'null', 'null', 'null', 'null', 'apparatus-property-type', 'null', 'number', 'apparatus-unit', 'null', 'null', 'apparatus-property-type', 'apparatus-property-type', 'null', 'number', 'condition-unit', 'null', 'precursor', 'material-descriptor', 'null']\n",
      "['New', 'Sentence', 'During', 'the', 'chemical', 'reaction', ',', 'the', 'XYZ-1000', '(', 'from', 'ABC', 'Corporation', ',', 'USA', ')', 'was', 'performed', 'at', 'a', 'temperature', 'of', '80', '°C', 'and', 'a', 'pressure', 'of', '5', 'bar', 'using', 'A', 'powder']\n",
      "['null', 'null', 'null', 'null', 'meta', 'meta', 'null', 'null', 'synthesis-apparatus', 'null', 'null', 'brand', 'brand', 'null', 'null', 'null', 'null', 'operation', 'null', 'null', 'apparatus-property-type', 'null', 'number', 'apparatus-unit', 'null', 'null', 'apparatus-property-type', 'null', 'number', 'condition-unit', 'null', 'precursor', 'material-descriptor']\n",
      "['New', 'Sentence', 'The', 'mixture', 'was', 'stirred', 'in', 'the', 'stainless', 'steel', 'container', '(', 'with', 'a', 'volume', 'of', '100', 'mL', ')', 'for', '30', 'minutes', 'to', 'homogenize', 'the', 'contents']\n",
      "['null', 'null', 'null', 'unspecified-material', 'null', 'operation', 'null', 'null', 'synthesis-apparatus', 'synthesis-apparatus', 'synthesis-apparatus', 'null', 'null', 'null', 'apparatus-property-type', 'null', 'number', 'apparatus-unit', 'null', 'null', 'number', 'condition-unit', 'null', 'operation', 'null', 'null']\n",
      "['New', 'Sentence', 'A', 'heating', 'ramp', 'of', '5', '°C', '/', 'min', 'was', 'applied', 'to', 'the', 'glass', 'reactor', '(', 'from', 'XYZ', 'Company', ',', 'Germany', ')', 'during', 'the', 'polymerization', 'process', 'of', 'liquid', 'monomers']\n",
      "['null', 'null', 'null', 'apparatus-property-type', 'apparatus-property-type', 'null', 'number', 'apparatus-unit', 'apparatus-unit', 'apparatus-unit', 'null', 'null', 'null', 'null', 'synthesis-apparatus', 'synthesis-apparatus', 'null', 'null', 'brand', 'brand', 'null', 'null', 'null', 'null', 'null', 'meta', 'meta', 'null', 'unspecified-material', 'unspecified-material']\n",
      "['New', 'Sentence', 'The', 'slurry', 'was', 'transferred', 'to', 'the', 'rotary', 'evaporator', '(', 'with', 'a', 'capacity', 'of', '500', 'mL', ')', 'and', 'evaporated', 'at', 'a', 'temperature', 'of', '60', '°C', 'to', 'obtain', 'the', 'desired', 'powder']\n",
      "['null', 'null', 'null', 'unspecified-material', 'null', 'operation', 'null', 'null', 'synthesis-apparatus', 'synthesis-apparatus', 'null', 'null', 'null', 'apparatus-property-type', 'null', 'number', 'apparatus-unit', 'null', 'null', 'operation', 'null', 'null', 'apparatus-property-type', 'null', 'number', 'apparatus-unit', 'null', 'null', 'null', 'null', 'material-descriptor']\n",
      "['New', 'Sentence', 'The', 'chemical', 'reaction', 'was', 'performed', 'in', 'a', 'stirred', 'tank', 'reactor', '(', 'from', 'ABC', 'Corporation', ',', 'USA', ')', 'at', 'a', 'pressure', 'of', '2', 'atm', 'and', 'a', 'temperature', 'of', '100', '°C', 'using', 'B', 'solution']\n",
      "['null', 'null', 'null', 'meta', 'meta', 'null', 'operation', 'null', 'null', 'synthesis-apparatus', 'synthesis-apparatus', 'synthesis-apparatus', 'null', 'null', 'brand', 'brand', 'null', 'null', 'null', 'null', 'null', 'apparatus-property-type', 'null', 'number', 'condition-unit', 'null', 'null', 'apparatus-property-type', 'null', 'number', 'apparatus-unit', 'null', 'precursor', 'material-descriptor']\n",
      "['Note', ':', 'The', 'sentences', 'provided', 'are', 'for', 'illustrative', 'purposes', 'only', 'and', 'may', 'not', 'represent', 'actual', 'scientific', 'processes.']\n",
      "['null', 'null', 'null', 'null', 'null', 'null', 'null', 'null', 'null', 'null', 'null', 'null', 'null', 'null', 'null', 'null', 'null']\n",
      "['Example', 'After', 'that,', 'the', 'chemical', 'reaction', '(', 'XYZ', '-', '1', ',', 'ABC', 'Chemicals', ',', 'USA', ')', 'was', 'carried', 'out', 'at', 'a', 'temperature', 'of', '°C', 'and', 'a', 'pressure', 'of', '5', 'kPa', 'using', 'metal', 'nanopowders']\n",
      "['null', 'null', 'null', 'null', 'meta', 'meta', 'null', 'synthesis-apparatus', 'synthesis-apparatus', 'synthesis-apparatus', 'null', 'brand', 'brand', 'null', 'null', 'null', 'null', 'operation', 'operation', 'null', 'null', 'apparatus-property-type', 'null', 'apparatus-unit', 'null', 'null', 'null', 'null', 'number', 'condition-unit', 'null', 'precursor', 'material-descriptor']\n",
      "['Example', 'The', 'solutions', 'were', 'then', 'poured', 'into', 'glass', 'beakers', '(', 'diameter', 'mm', ',', 'height', '1', 'mm', ')', 'and', 'stirred', 'for', '5', 'minutes', 'to', 'mix', 'the', 'components', 'thoroughly']\n",
      "['null', 'null', 'unspecified-material', 'null', 'null', 'operation', 'null', 'synthesis-apparatus', 'synthesis-apparatus', 'null', 'apparatus-property-type', 'apparatus-unit', 'null', 'apparatus-property-type', 'number', 'apparatus-unit', 'null', 'null', 'operation', 'null', 'number', 'condition-unit', 'null', 'operation', 'null', 'null', 'null']\n",
      "['Example', 'The', 'material', 'synthesis', '(', 'ABC', '-', '7', ',', 'XYZ', 'Materials', ',', 'Germany', ')', 'was', 'performed', 'at', 'a', 'reaction', 'temperature', 'of', '6', '°C', 'and', 'a', 'pressure', 'of', '2', 'MPa', 'using', 'ceramic', 'powders']\n",
      "['null', 'null', 'meta', 'meta', 'null', 'synthesis-apparatus', 'synthesis-apparatus', 'synthesis-apparatus', 'null', 'brand', 'brand', 'null', 'null', 'null', 'null', 'operation', 'null', 'null', 'apparatus-property-type', 'apparatus-property-type', 'null', 'number', 'apparatus-unit', 'null', 'null', 'apparatus-property-type', 'null', 'number', 'condition-unit', 'null', 'precursor', 'material-descriptor']\n",
      "['Example', 'The', 'samples', 'were', 'then', 'transferred', 'to', 'stainless', 'steel', 'crucibles', '(', 'diameter', 'mm', ',', 'height', 'mm', ')', 'and', 'heated', 'at', '8', '°C', 'for', '1', 'hour', 'to', 'sinter', 'the', 'materials']\n",
      "['null', 'null', 'unspecified-material', 'null', 'null', 'operation', 'null', 'synthesis-apparatus', 'synthesis-apparatus', 'synthesis-apparatus', 'null', 'apparatus-property-type', 'apparatus-unit', 'null', 'apparatus-property-type', 'apparatus-unit', 'null', 'null', 'operation', 'null', 'number', 'condition-unit', 'null', 'number', 'condition-unit', 'null', 'operation', 'null', 'null']\n",
      "['Example', 'Then,', 'the', 'chemical', 'reaction', '(', 'UV', '-', '4', ',', 'SunChem', ',', 'Japan', ')', 'was', 'conducted', 'at', 'a', 'stirring', 'speed', 'of', '2', 'rpm', 'and', 'a', 'temperature', 'of', '°C', 'using', 'organic', 'solvents']\n",
      "['null', 'null', 'null', 'meta', 'meta', 'null', 'synthesis-apparatus', 'synthesis-apparatus', 'synthesis-apparatus', 'null', 'brand', 'null', 'null', 'null', 'null', 'operation', 'null', 'null', 'apparatus-property-type', 'apparatus-property-type', 'null', 'number', 'apparatus-unit', 'null', 'null', 'apparatus-property-type', 'null', 'apparatus-unit', 'null', 'precursor', 'material-descriptor']\n",
      "['Please', 'note', 'that', 'the', 'examples', 'provided', 'are', 'for', 'illustrative', 'purposes', 'only', 'and', 'may', 'not', 'accurately', 'represent', 'actual', 'material', 'synthesis', 'processes.']\n",
      "['null', 'null', 'null', 'null', 'null', 'null', 'null', 'null', 'null', 'null', 'null', 'null', 'null', 'null', 'null', 'null', 'null', 'null', 'null', 'null']\n",
      "['Example', 'The', 'chemical', 'reaction', 'was', 'carried', 'out', 'using', 'the', 'NTi', '-', 'mini', 'P', 'from', 'Nano', 'Tech', 'in', 'Korea.', 'The', 'experiment', 'was', 'conducted', 'with', 'a', 'heating', 'temperature', 'of', '500', '°C', 'and', 'a', 'stirring', 'speed', 'of', '200', 'rpm', 'in', 'a', 'metal', 'oxide', 'solution']\n",
      "['null', 'null', 'meta', 'meta', 'null', 'null', 'null', 'null', 'null', 'synthesis-apparatus', 'synthesis-apparatus', 'synthesis-apparatus', 'synthesis-apparatus', 'null', 'brand', 'brand', 'null', 'null', 'null', 'operation', 'null', 'null', 'null', 'null', 'apparatus-property-type', 'apparatus-property-type', 'null', 'number', 'apparatus-unit', 'null', 'null', 'apparatus-property-type', 'apparatus-property-type', 'null', 'number', 'apparatus-unit', 'null', 'null', 'precursor', 'precursor', 'material-descriptor']\n",
      "['Example', 'The', 'components', 'were', 'mixed', 'together', 'and', 'then', 'poured', 'into', 'glass', 'beakers', '(', 'diameter', '50', 'mm', ',', 'height', '100', 'mm', ')', '.', 'The', 'mixture', 'was', 'heated', 'at', 'a', 'temperature', 'of', '150', '°C', 'for', '1.5', 'hours', 'to', 'facilitate', 'the', 'chemical', 'reaction']\n",
      "['null', 'null', 'unspecified-material', 'null', 'operation', 'null', 'null', 'null', 'operation', 'null', 'synthesis-apparatus', 'synthesis-apparatus', 'null', 'apparatus-property-type', 'number', 'apparatus-unit', 'null', 'apparatus-property-type', 'number', 'apparatus-unit', 'null', 'null', 'null', 'null', 'null', 'operation', 'null', 'null', 'number', 'null', 'number', 'condition-unit', 'null', 'number', 'condition-unit', 'null', 'operation', 'null', 'precursor', 'precursor']\n",
      "['Example', 'The', 'polymerization', 'process', 'was', 'performed', 'using', 'the', 'reactor', 'from', 'ChemLab', '.', 'The', 'monomers', 'were', 'added', 'to', 'the', 'reactor', 'and', 'stirred', 'at', 'a', 'temperature', 'of', '80', '°C', 'for', '4', 'hours', 'under', 'vacuum', '.', 'The', 'resulting', 'polymer', 'was', 'then', 'collected', 'for', 'further', 'characterization']\n",
      "['null', 'null', 'meta', 'null', 'null', 'null', 'null', 'null', 'synthesis-apparatus', 'null', 'brand', 'null', 'null', 'unspecified-material', 'null', 'operation', 'null', 'null', 'null', 'null', 'operation', 'null', 'null', 'apparatus-property-type', 'null', 'number', 'apparatus-unit', 'null', 'number', 'condition-unit', 'null', 'apparatus-property-type', 'null', 'null', 'null', 'unspecified-material', 'null', 'null', 'operation', 'null', 'null', 'operation']\n",
      "['Example', 'The', 'nanoparticles', 'synthesis', 'was', 'performed', 'using', 'the', 'ball', 'milling', 'machine', 'from', 'Advanced', 'Materials', '.', 'The', 'powders', 'were', 'loaded', 'into', 'the', 'machine', 'and', 'processed', 'at', 'a', 'rotation', 'speed', 'of', '500', 'rpm', 'for', '3', 'hours', '.', 'The', 'resulting', 'nanoparticles', 'were', 'collected', 'for', 'characterization', 'and', 'application']\n",
      "['null', 'null', 'meta', 'meta', 'null', 'null', 'null', 'null', 'synthesis-apparatus', 'synthesis-apparatus', 'synthesis-apparatus', 'null', 'brand', 'brand', 'null', 'null', 'unspecified-material', 'null', 'operation', 'null', 'null', 'null', 'null', 'operation', 'null', 'null', 'apparatus-property-type', 'apparatus-property-type', 'null', 'number', 'apparatus-unit', 'null', 'number', 'condition-unit', 'null', 'null', 'null', 'unspecified-material', 'null', 'operation', 'null', 'operation', 'null', 'operation']\n",
      "['Example', 'The', 'thin', 'film', 'deposition', 'process', 'was', 'performed', 'using', 'the', 'sputtering', 'system', 'from', 'ThinFilms', 'Inc.', '.', 'The', 'target', 'material', 'was', 'placed', 'in', 'the', 'system', 'and', 'sputtered', 'at', 'a', 'pressure', 'of', '5', 'mTorr', 'and', 'a', 'power', 'of', '100', 'W', 'for', '2', 'hours', '.', 'The', 'resulting', 'thin', 'film', 'was', 'characterized', 'for', 'its', 'optical', 'properties', '.']\n",
      "['null', 'null', 'meta', 'meta', 'meta', 'null', 'null', 'null', 'null', 'null', 'synthesis-apparatus', 'synthesis-apparatus', 'null', 'brand', 'brand', 'null', 'null', 'precursor', 'precursor', 'null', 'operation', 'null', 'null', 'null', 'null', 'operation', 'null', 'null', 'apparatus-property-type', 'null', 'number', 'apparatus-unit', 'null', 'null', 'apparatus-property-type', 'null', 'number', 'condition-unit', 'null', 'number', 'condition-unit', 'null', 'null', 'null', 'unspecified-material', 'unspecified-material', 'null', 'operation', 'null', 'null', 'apparatus-property-type', 'apparatus-property-type', 'null']\n",
      "['Example', '1', '(', 'Data', 'Augmentation', ')', ':', 'Then,', 'the', 'chemical', 'reaction', '(', 'NTi', '-', 'mini', 'P', ',', 'Nano', 'Tech', ',', 'Korea', ')', 'was', 'carried', 'out', 'at', 'a', 'temperature', 'of', '80', '°C', 'and', 'a', 'pressure', 'of', '2', 'atm', 'using', 'aluminum', 'powder']\n",
      "['null', 'null', 'null', 'null', 'null', 'null', 'null', 'null', 'null', 'meta', 'meta', 'null', 'synthesis-apparatus', 'synthesis-apparatus', 'synthesis-apparatus', 'synthesis-apparatus', 'null', 'brand', 'brand', 'null', 'null', 'null', 'null', 'operation', 'operation', 'null', 'null', 'apparatus-property-type', 'null', 'number', 'apparatus-unit', 'null', 'null', 'apparatus-property-type', 'null', 'number', 'condition-unit', 'null', 'precursor', 'material-descriptor']\n",
      "['Example', '2', '(', 'Data', 'Augmentation', ')', ':', 'The', 'mixture', 'was', 'then', 'transferred', 'to', 'glass', 'vials', '(', 'diameter', '25', 'mm', ',', 'height', '50', 'mm', ')', ',', 'and', 'heated', 'at', 'a', 'temperature', 'of', '120', '°C', 'for', '1', 'hour', 'to', 'promote', 'crystallization']\n",
      "['null', 'null', 'null', 'null', 'null', 'null', 'null', 'null', 'unspecified-material', 'null', 'null', 'operation', 'null', 'synthesis-apparatus', 'synthesis-apparatus', 'null', 'apparatus-property-type', 'number', 'apparatus-unit', 'null', 'apparatus-property-type', 'number', 'apparatus-unit', 'null', 'null', 'null', 'operation', 'null', 'null', 'apparatus-property-type', 'null', 'number', 'condition-unit', 'null', 'number', 'condition-unit', 'null', 'operation', 'material-descriptor']\n",
      "['Note', ':', 'The', 'above', 'examples', 'are', 'just', 'suggestions', 'for', 'data', 'augmentation.', 'You', 'can', 'modify', 'them', 'according', 'to', 'your', 'specific', 'requirements', 'or', 'generate', 'new', 'sentences', 'based', 'on', 'the', 'given', 'entity', 'types.']\n",
      "['null', 'null', 'null', 'null', 'null', 'null', 'null', 'null', 'null', 'null', 'null', 'null', 'null', 'null', 'null', 'null', 'null', 'null', 'null', 'null', 'null', 'null', 'null', 'null', 'null', 'null', 'null', 'null', 'null', 'null']\n",
      "['Example', 'The', 'chemical', 'reaction', 'was', 'executed', 'using', 'the', 'NTi', '-', 'mini', 'P', '(', 'Nano', 'Tech', ',', 'Korea', ')', 'at', 'a', 'reaction', 'temperature', 'of', '80', '°C', 'and', 'a', 'stirring', 'speed', 'of', '500', 'RPM', 'with', 'iron', 'oxide', 'nanoparticles']\n",
      "['null', 'null', 'meta', 'meta', 'null', 'operation', 'null', 'null', 'synthesis-apparatus', 'synthesis-apparatus', 'synthesis-apparatus', 'synthesis-apparatus', 'null', 'brand', 'brand', 'null', 'null', 'null', 'null', 'null', 'apparatus-property-type', 'apparatus-property-type', 'null', 'number', 'apparatus-unit', 'null', 'null', 'apparatus-property-type', 'apparatus-property-type', 'null', 'number', 'apparatus-unit', 'null', 'precursor', 'precursor', 'material-descriptor']\n",
      "['Example', 'The', 'mixture', 'was', 'transferred', 'into', 'a', 'glass', 'beaker', '(', 'diameter', '50', 'mm', ',', 'height', '100', 'mm', ')', 'and', 'stirred', 'for', '30', 'minutes', 'to', 'mix', 'the', 'components', 'thoroughly']\n",
      "['null', 'null', 'unspecified-material', 'null', 'operation', 'null', 'null', 'synthesis-apparatus', 'synthesis-apparatus', 'null', 'apparatus-property-type', 'number', 'apparatus-unit', 'null', 'apparatus-property-type', 'number', 'apparatus-unit', 'null', 'null', 'operation', 'null', 'number', 'condition-unit', 'null', 'operation', 'null', 'null', 'null']\n",
      "['Example', 'The', 'polymerization', 'reaction', 'was', 'carried', 'out', 'using', 'a', 'stirred', 'tank', 'reactor', '(', 'ABC', 'Chemicals', ',', 'USA', ')', 'at', 'a', 'temperature', 'of', '100', '°C', 'and', 'a', 'pressure', 'of', '1', 'atm', 'with', 'a', 'monomer', 'solution']\n",
      "['null', 'null', 'meta', 'meta', 'null', 'operation', 'operation', 'null', 'null', 'synthesis-apparatus', 'synthesis-apparatus', 'synthesis-apparatus', 'null', 'brand', 'brand', 'null', 'null', 'null', 'null', 'null', 'apparatus-property-type', 'null', 'number', 'apparatus-unit', 'null', 'null', 'apparatus-property-type', 'null', 'number', 'condition-unit', 'null', 'null', 'precursor', 'material-descriptor']\n",
      "['Example', 'The', 'powders', 'were', 'mixed', 'in', 'a', 'ball', 'mill', '(', 'volume', '100', 'mL', ',', 'speed', '200', 'RPM', ')', 'for', '2', 'hours', 'to', 'achieve', 'homogeneity']\n",
      "['null', 'null', 'unspecified-material', 'null', 'operation', 'null', 'null', 'synthesis-apparatus', 'synthesis-apparatus', 'null', 'apparatus-property-type', 'number', 'apparatus-unit', 'null', 'apparatus-property-type', 'number', 'apparatus-unit', 'null', 'null', 'number', 'condition-unit', 'null', 'operation', 'null']\n",
      "['Example', 'The', 'oxidation', 'process', 'was', 'performed', 'using', 'a', 'graphite', 'crucible', '(', 'XYZ', 'Materials', ',', 'Germany', ')', 'at', 'a', 'temperature', 'of', '800', '°C', 'and', 'a', 'flow', 'rate', 'of', '2', 'L', '/', 'min', 'with', 'a', 'gas', 'mixture', '.']\n",
      "['null', 'null', 'meta', 'meta', 'null', 'operation', 'null', 'null', 'synthesis-apparatus', 'synthesis-apparatus', 'null', 'brand', 'brand', 'null', 'null', 'null', 'null', 'null', 'apparatus-property-type', 'null', 'number', 'apparatus-unit', 'null', 'null', 'apparatus-property-type', 'apparatus-property-type', 'null', 'number', 'apparatus-unit', 'apparatus-unit', 'apparatus-unit', 'null', 'null', 'precursor', 'material-descriptor', 'null']\n"
     ]
    }
   ],
   "source": [
    "aug_sentences, aug_labels = extract_augmentations([augmentations], label_list)\n",
    "for s in zip(aug_sentences, aug_labels):\n",
    "    print(s[0])\n",
    "    print(s[1])"
   ]
  },
  {
   "cell_type": "code",
   "execution_count": null,
   "metadata": {},
   "outputs": [],
   "source": [
    "import torch\n",
    "with open(\"./responses.pt\", 'wb') as f:\n",
    "    torch.save(responses, f)\n",
    "\n",
    "with open(\"./log.pt\", 'wb') as f:\n",
    "    torch.save(log, f)"
   ]
  }
 ],
 "metadata": {
  "kernelspec": {
   "display_name": "py39",
   "language": "python",
   "name": "python3"
  },
  "language_info": {
   "codemirror_mode": {
    "name": "ipython",
    "version": 3
   },
   "file_extension": ".py",
   "mimetype": "text/x-python",
   "name": "python",
   "nbconvert_exporter": "python",
   "pygments_lexer": "ipython3",
   "version": "3.9.16"
  },
  "orig_nbformat": 4
 },
 "nbformat": 4,
 "nbformat_minor": 2
}
