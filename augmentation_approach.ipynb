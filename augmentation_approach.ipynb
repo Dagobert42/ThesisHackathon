{
 "cells": [
  {
   "cell_type": "code",
   "execution_count": 1,
   "metadata": {},
   "outputs": [],
   "source": [
    "import openai\n",
    "import os\n",
    "org_key_file = 'org_key'\n",
    "api_key_file = 'api_key'\n",
    "openai.organization = open(org_key_file).read().strip()\n",
    "openai.api_key = open(api_key_file).read().strip()"
   ]
  },
  {
   "cell_type": "code",
   "execution_count": 2,
   "metadata": {},
   "outputs": [],
   "source": [
    "from helpers import *\n",
    "from sklearn.model_selection import train_test_split\n",
    "\n",
    "path = \"data/ner_annotations.json\"\n",
    "sentences, all_labels, label_list, label_dict = load_data(path)\n",
    "\n",
    "X_train, X_rest, y_train, y_rest = train_test_split(\n",
    "    sentences,\n",
    "    all_labels,\n",
    "    test_size=0.66666,\n",
    "    random_state=1\n",
    "    )\n",
    "\n",
    "X_test, X_val, y_test, y_val = train_test_split(\n",
    "    X_rest,\n",
    "    y_rest,\n",
    "    test_size=0.5,\n",
    "    random_state=1\n",
    "    )"
   ]
  },
  {
   "cell_type": "code",
   "execution_count": 3,
   "metadata": {},
   "outputs": [
    {
     "name": "stdout",
     "output_type": "stream",
     "text": [
      "69\n",
      "['Catalytic', 'consequences', 'of', 'micropore', 'topology', ',', 'mesoporosity', ',', 'and', 'acidity', 'on', 'the', 'hydrolysis', 'of', 'sucrose', 'over', 'zeolite', 'catalysts', '.']\n",
      "['null', 'null', 'null', 'null', 'property-type', 'null', 'property-type', 'null', 'null', 'property-type', 'null', 'null', 'meta', 'null', 'null', 'null', 'null', 'null', 'null']\n",
      "\n",
      "['Organic', 'solvents', 'and', 'other', 'chemicals', 'used', 'were', 'either', 'HPLC', 'or', 'analytical', 'grade', 'from', 'Merck', ',', 'Fluka', ',', 'Panreac', 'and', 'Aldrich', '.']\n",
      "['material-descriptor', 'unspecified-material', 'null', 'null', 'unspecified-material', 'operation', 'null', 'null', 'amount-misc', 'null', 'amount-misc', 'amount-misc', 'null', 'brand', 'null', 'brand', 'null', 'brand', 'null', 'brand', 'null']\n",
      "\n",
      "['All', 'zeolite', 'samples', 'in', 'their', 'NH4+', '-', 'form', 'were', 'treated', 'in', 'dry', 'air', '(', '100', 'mL', 'min-1', ',', 'ultrapure', ',', 'Airgas', ')', 'by', 'increasing', 'the', 'temperature', 'from', 'ambient', 'temperature', 'to', '823', 'K', 'at', '1.45', 'K', 'min-1', 'and', 'holding', 'for', '4', 'h', 'to', 'thermally', 'decompose', 'NH4+', 'to', 'NH3', 'and', 'H+', '.']\n",
      "['null', 'unspecified-material', 'material-descriptor', 'null', 'null', 'nonrecipe-material', 'nonrecipe-material', 'null', 'null', 'operation', 'null', 'condition-misc', 'gas', 'null', 'number', 'condition-unit', 'condition-unit', 'null', 'condition-misc', 'null', 'brand', 'null', 'null', 'operation', 'null', 'condition-type', 'null', 'condition-misc', 'condition-misc', 'null', 'number', 'condition-unit', 'null', 'number', 'condition-unit', 'condition-unit', 'null', 'operation', 'null', 'number', 'condition-unit', 'null', 'operation', 'operation', 'nonrecipe-material', 'null', 'nonrecipe-material', 'null', 'nonrecipe-material', 'null']\n",
      "\n"
     ]
    }
   ],
   "source": [
    "import torch\n",
    "import pandas as pd\n",
    "\n",
    "with open(\"./20230811-135010_train_data_losses.pt\", 'rb') as f:\n",
    "    losses = torch.load(f)\n",
    "\n",
    "thresh_low = 1.8\n",
    "thresh_high = 2.0\n",
    "sent_label_pairs = [l[1] for l in losses\n",
    "                    if l[0] > thresh_low and l[0] <= thresh_high]\n",
    "\n",
    "print(len(sent_label_pairs))\n",
    "for e in sent_label_pairs[:3]:\n",
    "    print(e[0])\n",
    "    print(e[1])\n",
    "    print()"
   ]
  },
  {
   "cell_type": "code",
   "execution_count": 4,
   "metadata": {},
   "outputs": [],
   "source": [
    "responses = []\n",
    "understanding = []\n",
    "log = {\n",
    "    \"n_responses\": 0,\n",
    "    \"completion_tokens\": 0,\n",
    "    \"prompt_tokens\": 0,\n",
    "    \"total_tokens\": 0,\n",
    "    \"errors\" : []\n",
    "    }"
   ]
  },
  {
   "cell_type": "code",
   "execution_count": 5,
   "metadata": {},
   "outputs": [],
   "source": [
    "import torch\n",
    "import time\n",
    "\n",
    "def save_stuff(responses, log):\n",
    "    file_id = time.strftime(\"%Y%m%d-%H%M%S\") + '_'\n",
    "    with open(f\"./augmentations/{file_id}responses.pt\", 'wb') as f:\n",
    "        torch.save(responses, f)\n",
    "\n",
    "    with open(f\"./logs/{file_id}log.pt\", 'wb') as f:\n",
    "        torch.save(log, f)"
   ]
  },
  {
   "cell_type": "code",
   "execution_count": 6,
   "metadata": {},
   "outputs": [],
   "source": [
    "system_prompt = \"Your job is to assist with data augmentation in the material synthesis domain.\"\n",
    "augmentation_prompt = \"Write as many new examples as possible in the style of the given examples. Output only the new examples without additional explanation. Tag all entities in an XML-style.\"\n",
    "descriptions = {\n",
    "    'apparatus-unit': \"A unit of measurement used to quantify a capacity or dimension of a synthesis-apparatus. For example, 'kV' can be the unit of measurement for the accelerating voltage of an X-ray measurement apparatus or 'mL' as the unit quantifying the capacity of an autoclave\",\n",
    "    'characterization-apparatus': \"A tool or instrument used for characterizing or analyzing the properties or characteristics of a material. For example, an 'X-ray measurement' apparatus used for elemental mapping or 'XRF' indicating that X-ray fluorescence spectroscopy was used to analyze the chemical composition of a precursor\",\n",
    "    'apparatus-property-type': \"A specific type of property or characteristic associated with an apparatus. For example, 'capacity' is a property type associated with an autoclave or the 'amplitude' representing the intensity or strength of a sonication.\",\n",
    "    'condition-type': \"This entity refers to a specific condition or parameter related to an experiment or process. For example, 'applied voltage' is a condition type associated with the electrospinning process.\",\n",
    "    'number': \"Numerical values. For example, words like '14.7', '1', '2.5', and '10000' are number entities as representing specific quantities or measurements.\",\n",
    "    'unspecified-material': \"A material that is not explicitly specified or described. For example, 'solution' and 'mixture' refer to unspecified materials.\",\n",
    "    'material': \"A substance or matter that can undergo chemical reactions or be used to create products. For example, 'MnP' is a specific material used for membranes.\",\n",
    "    'synthesis-apparatus': \"The equipment used for synthesis or production of a material. For example, 'syringe pump' and 'jet' are synthesis apparatuses used in the electrospinning process.\",\n",
    "    'material-descriptor': \"Descriptions or characteristics of a substance or material. Words like 'green' and 'poly(vinyl alcohol)' describe the nature of the materials involved. Or 'aqueous solution' can be a material descriptor for an unspecified-material.\",\n",
    "    'condition-unit': \"Units of measurement for specific conditions or processes. For example, 'K' (Kelvin) and 'h' (hour) describe the temperature and duration of the sintering process.\",\n",
    "    'operation': \"Actions or processes performed on the entities or substances. For example, words like 'dissolved', 'stirring', and 'mixed' are all examples of operations carried out during the synthesis or reaction processes.\",\n",
    "    'apparatus-descriptor': \"Describes the characteristics or properties of a specific apparatus or equipment. For example, '200-mesh' specifies the mesh size of a screen used during the sieving operation.\",\n",
    "    'precursor': \"A substance or compound that is used as a starting material or ingredient in a chemical reaction or synthesis process. For example, words like 'manganese acetate tetrahydrate' and 'oleic acid' can be precursors if they are the starting materials for a chemical reaction or process.\",\n",
    "    'condition-misc': \"Miscellaneous conditions or factors that are relevant to the context. For example, 'magnetic' describes the condition under which the stirring is performed and 'vigorous' and 'homogeneous' are mentioned as miscellaneous conditions describing the stirring and dispersion of precursors.\",\n",
    "    'property-misc': \"Miscellaneous properties or characteristics of a substance or material. For example, 'cobalt-based' and 'catalyst' describe the nature of a reference material such as 'Au / AC'.\",\n",
    "    'target': \"The desired or intended outcome or product of a process or reaction. For example, 'Au / AC', 'Co / SiO2' and 'zinc oxide' represent target entities if they are the desired material to be prepared. Targets are often mentioned in the title or headline of a recipe.\",\n",
    "    'amount-unit': \"The unit of measurement for a quantity. For example, words like 'g', 'ml', 'L', 'μg mL-1', 'wt %', and 'MW' are specifying the unit in which a quantity is measured.\",\n",
    "    'reference': \"Citations of a source that provides additional information or support for a statement or procedure. For example, 'Biella et al. 12' or '[12]' represent reference entities linking to a source.\",\n",
    "    'solvent': \"A substance in which another substance is dissolved or mixed, typically in liquid form. 'methanol', 'water', 'H2O' or 'HF' are examples of solvents.\",\n",
    "    'gas': \"Represents a type of gas used in a chemical process or reaction. For example, 'argon' is the gas used during a heating process.\",\n",
    "    'property-type': \"A specific characteristic or quality of a material that can be observed. For example, 'diameter' and 'thickness' are used to describe the dimensions of pellets, while 'morphology' refers to the shape or form of nanostructures.\",\n",
    "    'property-unit': \"Represents the unit of measurement used to quantify a property. For example, 'mm' (millimeter) is used to measure the diameter and thickness of pellets.\",\n",
    "    'brand': \"The brand or manufacturer of materials or equipment. For example, 'Bunkokeiki' is the brand of a characterization apparatus used for measurements.\",\n",
    "    'meta': \"A word or phrase that provides additional information or context about a process or experiment. For example, 'simple hydrothermal method' is meta-information on the preparation method for ferromagnetic nano-sized material.\",\n",
    "    'nonrecipe-material': 'This entity type refers to materials that are not part of a specified recipe or procedure. For example, \"toluene\" is tagged as nonrecipe-material because it is mentioned as a material added without being part of a specific recipe.',\n",
    "    'amount-misc': 'This entity type refers to miscellaneous mentions of quantities or amounts. For example, \"stoichiometric amount\" and \"required amount\" are tagged as amount-misc because they indicate unspecified quantities of starting materials and solvent, respectively.'\n",
    "}"
   ]
  },
  {
   "cell_type": "code",
   "execution_count": 7,
   "metadata": {},
   "outputs": [
    {
     "name": "stdout",
     "output_type": "stream",
     "text": [
      "You are given this set of entities:\n",
      "property-misc\n",
      "operation\n",
      "target\n",
      "\n",
      "The entities are tagged in the examples in an XML-style.\n",
      "\n",
      "Example 1: <operation> Calcd.\n",
      "\n",
      "Example 2: A <property-misc> Microsized Cagelike </property-misc> <target> Sulfur / Carbon </target> <property-misc> Composite </property-misc> for a <property-misc> Lithium / Sulfur Battery </property-misc> with Excellent Performance.\n",
      "\n",
      "Give a definition of each entity type and explain why the words from the examples belong to this entity.\n",
      "\n",
      "property-misc : Miscellaneous properties or characteristics of a substance or material. For example, 'cobalt-based' and 'catalyst' describe the nature of a reference material such as 'Au / AC'.,\n",
      "operation : Actions or processes performed on the entities or substances. For example, words like 'dissolved', 'stirring', and 'mixed' are all examples of operations carried out during the synthesis or reaction processes.,\n",
      "target : The desired or intended outcome or product of a process or reaction. For example, 'Au / AC', 'Co / SiO2' and 'zinc oxide' represent target entities if they are the desired material to be prepared. Targets are often mentioned in the title or headline of a recipe.,\n",
      "\n",
      "Example 1: <operation>Heated</operation> the <target>silica gel</target> at <property-misc>high temperature</property-misc> to obtain a <property-misc>porous material</property-misc>.\n",
      "\n",
      "Example 2: <property-misc>Coated</property-misc> the <target>glass substrate</target> with a <property-misc>thin film</property-misc> using a <operation>sputtering</operation> technique.\n",
      "\n",
      "Example 3: <operation>Mixed</operation> a <property-misc>polymer solution</property-misc> with the <target>carbon nanotubes</target> to create a <property-misc>nanocomposite</property-misc> material.\n",
      "\n",
      "Example 4: A <property-misc>Biodegradable</property-misc> <target>polymer</target> <operation>synthesized</operation> via <operation>ring-opening polymerization</operation> shows <property-misc>improved mechanical properties</property-misc>.\n",
      "\n",
      "Example 5: <operation>Calcined</operation> the <target>metal oxide</target> at <property-misc>high temperature</property-misc> to enhance its <property-misc>catalytic activity</property-misc>.\n",
      "\n",
      "Example 6: <operation>Coated</operation> the <target>titanium dioxide nanoparticles</target> onto a <property-misc>flexible substrate</property-misc> to create a <property-misc>photocatalytic material</property-misc>.\n",
      "\n",
      "Example 7: <operation>Mixed</operation> a <property-misc>conductive polymer</property-misc> with the <target>graphene sheets</target> to form a <property-misc>composite electrode</property-misc> for <property-misc>supercapacitors</property-misc>.\n",
      "\n",
      "Example 8: <property-misc>Synthesized</property-misc> a <target>metal-organic framework</target> using a <operation>solvothermal method</operation> for <property-misc>gas adsorption</property-misc> applications.\n",
      "\n",
      "Example 9: <operation>Functionalized</operation> the <target>carbon nanomaterials</target> with a <property-misc>surface modifier</property-misc> to enhance their <property-misc>dispersion properties</property-misc>.\n",
      "\n",
      "Example 10: A <property-misc>Biocompatible</property-misc> <target>hydrogel</target> <operation>formed</operation> by <operation>crosslinking</operation> a <property-misc>polymer solution</property-misc> shows <property-misc>controlled drug release</property-misc> behavior.\n"
     ]
    }
   ],
   "source": [
    "from IPython.display import clear_output\n",
    "\n",
    "save_every = 20\n",
    "random.shuffle(sent_label_pairs)\n",
    "for i in range(len(sent_label_pairs)-1):\n",
    "    sample1 = sent_label_pairs[i]\n",
    "    sample2 = sent_label_pairs[i+1]\n",
    "    context_prompt, entity_set = create_context_prompt(\n",
    "        sample1[0],\n",
    "        sample1[1],\n",
    "        sample2[0],\n",
    "        sample2[1]\n",
    "    )\n",
    "    entity_relations = get_descriptions(entity_set, descriptions)\n",
    "\n",
    "    try:\n",
    "        augmentations = openai.ChatCompletion.create(\n",
    "            model=\"gpt-3.5-turbo\",\n",
    "            messages=[\n",
    "                {\"role\" : \"system\", \"content\" : system_prompt},\n",
    "                {\"role\" : \"user\", \"content\" : context_prompt},\n",
    "                {\"role\" : \"assistant\", \"content\" : entity_relations},\n",
    "                {\"role\" : \"user\", \"content\" : augmentation_prompt},\n",
    "                ],\n",
    "            max_tokens=1000,\n",
    "            temperature=0.7,\n",
    "            n=3\n",
    "            )\n",
    "        clear_output()\n",
    "        print(context_prompt)\n",
    "        print(entity_relations)\n",
    "        print(augmentations[\"choices\"][0][\"message\"][\"content\"])\n",
    "        responses.append(augmentations)\n",
    "        log[\"n_responses\"] += 1\n",
    "        log[\"completion_tokens\"] += augmentations[\"usage\"][\"completion_tokens\"]\n",
    "        log[\"prompt_tokens\"] += augmentations[\"usage\"][\"prompt_tokens\"]\n",
    "        log[\"total_tokens\"] += augmentations[\"usage\"][\"total_tokens\"]\n",
    "        \n",
    "    except Exception as e:\n",
    "        print(\"Request failed with Exception:\", e)\n",
    "        log[\"errors\"].append(e)\n",
    "\n",
    "    if i%save_every == (save_every-1):\n",
    "        save_stuff(responses, log)\n",
    "    "
   ]
  },
  {
   "cell_type": "code",
   "execution_count": 8,
   "metadata": {},
   "outputs": [],
   "source": [
    "save_stuff(responses, log)"
   ]
  },
  {
   "cell_type": "code",
   "execution_count": 9,
   "metadata": {},
   "outputs": [
    {
     "ename": "TypeError",
     "evalue": "len() takes exactly one argument (0 given)",
     "output_type": "error",
     "traceback": [
      "\u001b[0;31m---------------------------------------------------------------------------\u001b[0m",
      "\u001b[0;31mTypeError\u001b[0m                                 Traceback (most recent call last)",
      "Cell \u001b[0;32mIn[9], line 2\u001b[0m\n\u001b[1;32m      1\u001b[0m aug_sentences, aug_labels \u001b[39m=\u001b[39m extract_augmentations(responses, label_list)\n\u001b[0;32m----> 2\u001b[0m \u001b[39mprint\u001b[39m(\u001b[39mlen\u001b[39;49m())\n\u001b[1;32m      3\u001b[0m \u001b[39mfor\u001b[39;00m s \u001b[39min\u001b[39;00m \u001b[39mzip\u001b[39m(aug_sentences, aug_labels):\n\u001b[1;32m      4\u001b[0m     \u001b[39mprint\u001b[39m(s[\u001b[39m0\u001b[39m])\n",
      "\u001b[0;31mTypeError\u001b[0m: len() takes exactly one argument (0 given)"
     ]
    }
   ],
   "source": [
    "aug_sentences, aug_labels = extract_augmentations(responses, label_list)\n",
    "print(len())\n",
    "for s in zip(aug_sentences, aug_labels):\n",
    "    print(s[0])\n",
    "    print(s[1])\n",
    "    print()"
   ]
  }
 ],
 "metadata": {
  "kernelspec": {
   "display_name": "py39",
   "language": "python",
   "name": "python3"
  },
  "language_info": {
   "codemirror_mode": {
    "name": "ipython",
    "version": 3
   },
   "file_extension": ".py",
   "mimetype": "text/x-python",
   "name": "python",
   "nbconvert_exporter": "python",
   "pygments_lexer": "ipython3",
   "version": "3.9.16"
  },
  "orig_nbformat": 4
 },
 "nbformat": 4,
 "nbformat_minor": 2
}
