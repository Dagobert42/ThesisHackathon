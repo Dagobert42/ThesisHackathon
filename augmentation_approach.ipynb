{
 "cells": [
  {
   "cell_type": "code",
   "execution_count": 1,
   "metadata": {},
   "outputs": [],
   "source": [
    "from helpers import *\n",
    "\n",
    "path = \"data/ner_annotations.json\"\n",
    "sentences, all_labels, label_list, label_dict = load_data(path)"
   ]
  },
  {
   "cell_type": "code",
   "execution_count": 2,
   "metadata": {},
   "outputs": [
    {
     "name": "stdout",
     "output_type": "stream",
     "text": [
      "env: OPENAI_API_KEY=\"\"\n"
     ]
    }
   ],
   "source": [
    "%env OPENAI_API_KEY=\"\""
   ]
  },
  {
   "cell_type": "code",
   "execution_count": 3,
   "metadata": {},
   "outputs": [],
   "source": [
    "import openai\n",
    "import os\n",
    "openai.organization = \"org-KvmMsEbe5NcCxonSirXVjXmm\"\n",
    "openai.api_key = os.getenv(\"OPENAI_API_KEY\")"
   ]
  },
  {
   "cell_type": "code",
   "execution_count": 4,
   "metadata": {},
   "outputs": [],
   "source": [
    "all_exemplars = [\n",
    "    str('\\n'.join(list(set(l)))) + \"\\n\\n\" + tag_exemplar(e, l)\n",
    "    for (e, l) in zip(sentences, all_labels)\n",
    "    ]"
   ]
  },
  {
   "cell_type": "code",
   "execution_count": null,
   "metadata": {},
   "outputs": [],
   "source": [
    "responses = []\n",
    "log = {\n",
    "    \"n_responses\": 0,\n",
    "    \"completion_tokens\": 0,\n",
    "    \"prompt_tokens\": 0,\n",
    "    \"total_tokens\": 0,\n",
    "    \"errors\" : []\n",
    "    }"
   ]
  },
  {
   "cell_type": "code",
   "execution_count": 5,
   "metadata": {},
   "outputs": [],
   "source": [
    "seed_class = \"apparatus-property-type\"\n",
    "class_exemplars = [\n",
    "    (sentence, labels)\n",
    "    for sentence, labels in zip(sentences, all_labels)\n",
    "    if seed_class in labels\n",
    "    ]"
   ]
  },
  {
   "cell_type": "code",
   "execution_count": 6,
   "metadata": {},
   "outputs": [
    {
     "name": "stdout",
     "output_type": "stream",
     "text": [
      "You are given this set of entities:\n",
      "meta\n",
      "condition-unit\n",
      "unspecified-material\n",
      "brand\n",
      "apparatus-unit\n",
      "operation\n",
      "apparatus-property-type\n",
      "number\n",
      "material-descriptor\n",
      "synthesis-apparatus\n",
      "precursor\n",
      "\n",
      "The entities are tagged in the examples in an XML-style.\n",
      "\n",
      "Example 1: Then , the <meta> electrical wire explosion </meta> ( <synthesis-apparatus> NTi - mini P </synthesis-apparatus> , <brand> Nano Tech </brand> , Korea ) was <operation> conducted </operation> at a <apparatus-property-type> feeding distance </apparatus-property-type> of <number> 40 </number> <apparatus-unit> mm </apparatus-unit> and a charge voltage of <number> 320 </number> <condition-unit> V </condition-unit> in the <precursor> Si </precursor> <material-descriptor> nanoparticles - dispersed suspension </material-descriptor>.\n",
      "\n",
      "Example 2: The <unspecified-material> mixtures </unspecified-material> were then <operation> transferred </operation> to <synthesis-apparatus> cylindrical PVC molds </synthesis-apparatus> ( <apparatus-property-type> diameter </apparatus-property-type> <number> 35 </number> <apparatus-unit> mm </apparatus-unit> , <apparatus-property-type> height </apparatus-property-type> <number> 70 </number> <apparatus-unit> mm </apparatus-unit> ) , and <operation> vibrated </operation> for <number> 2 </number> <condition-unit> min </condition-unit> to <operation> remove </operation> entrapped air bubbles.\n",
      "\n",
      "Give a definition of each entity type and explain why the words from the examples belong to this entity.\n",
      "\n"
     ]
    }
   ],
   "source": [
    "exemplar1_id = 5\n",
    "exemplar2_id = 10\n",
    "\n",
    "labels1 = class_exemplars[exemplar1_id][1]\n",
    "exemplar1 = tag_exemplar(class_exemplars[exemplar1_id][0], labels1)\n",
    "labels2 = class_exemplars[exemplar2_id][1]\n",
    "exemplar2 = tag_exemplar(class_exemplars[exemplar2_id][0], labels2)\n",
    "\n",
    "context_prompt = create_context_prompt(\n",
    "    exemplar1,\n",
    "    labels1,\n",
    "    exemplar2,\n",
    "    labels2,\n",
    "    )\n",
    "print(context_prompt)"
   ]
  },
  {
   "cell_type": "code",
   "execution_count": null,
   "metadata": {},
   "outputs": [],
   "source": [
    "context = openai.ChatCompletion.create(\n",
    "    model=\"gpt-3.5-turbo\",\n",
    "    messages=[{\"role\" : \"user\", \"content\" : context_prompt}],\n",
    "    max_tokens=1000,\n",
    "    temperature=0.7,\n",
    "    n=1\n",
    "    )\n",
    "print(context)"
   ]
  },
  {
   "cell_type": "code",
   "execution_count": null,
   "metadata": {},
   "outputs": [],
   "source": [
    "system_prompt = \"Your job is to assist with data augmentation in the material synthesis domain.\"\n",
    "augmentation_prompt = \"Produce new sentences that are similar to the given examples. Tag all entities in an XML-style.\""
   ]
  },
  {
   "cell_type": "code",
   "execution_count": null,
   "metadata": {},
   "outputs": [],
   "source": [
    "try:\n",
    "    augmentations = openai.ChatCompletion.create(\n",
    "        model=\"gpt-3.5-turbo\",\n",
    "        messages=[\n",
    "            {\"role\" : \"user\", \"content\" : context_prompt},\n",
    "            {\"role\" : \"assistant\", \"content\" : context},\n",
    "            {\"role\" : \"system\", \"content\" : system_prompt},\n",
    "            {\"role\" : \"user\", \"content\" : augmentation_prompt},\n",
    "            ],\n",
    "        max_tokens=1000,\n",
    "        temperature=0.7,\n",
    "        n=10\n",
    "        )\n",
    "    print(augmentations)\n",
    "    responses.append(augmentations)\n",
    "    log[\"n_responses\"] += 1\n",
    "    log[\"completion_tokens\"] += augmentations[\"usage\"][\"completion_tokens\"]\n",
    "    log[\"prompt_tokens\"] += augmentations[\"usage\"][\"prompt_tokens\"]\n",
    "    log[\"total_tokens\"] += augmentations[\"usage\"][\"total_tokens\"]\n",
    "except Exception as e:\n",
    "    print(\"Request failed with Exception:\", e)\n",
    "    log[\"errors\"].append(e)"
   ]
  },
  {
   "cell_type": "code",
   "execution_count": null,
   "metadata": {},
   "outputs": [],
   "source": [
    "import torch\n",
    "with open(\"./responses.pt\", 'wb') as f:\n",
    "    torch.save(responses, f)\n",
    "\n",
    "with open(\"./log.pt\", 'wb') as f:\n",
    "    torch.save(log, f)"
   ]
  }
 ],
 "metadata": {
  "kernelspec": {
   "display_name": "py39",
   "language": "python",
   "name": "python3"
  },
  "language_info": {
   "codemirror_mode": {
    "name": "ipython",
    "version": 3
   },
   "file_extension": ".py",
   "mimetype": "text/x-python",
   "name": "python",
   "nbconvert_exporter": "python",
   "pygments_lexer": "ipython3",
   "version": "3.9.16"
  },
  "orig_nbformat": 4
 },
 "nbformat": 4,
 "nbformat_minor": 2
}
