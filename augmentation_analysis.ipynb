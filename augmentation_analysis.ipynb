{
 "cells": [
  {
   "cell_type": "code",
   "execution_count": null,
   "metadata": {},
   "outputs": [],
   "source": [
    "from helpers import *\n",
    "\n",
    "path = \"data/ner_annotations.json\"\n",
    "sentences, all_labels, label_list, label_dict = load_data(path)"
   ]
  },
  {
   "cell_type": "code",
   "execution_count": null,
   "metadata": {},
   "outputs": [],
   "source": [
    "import torch\n",
    "\n",
    "with open(\"./responses.pt\", 'rb') as f:\n",
    "    responses = torch.load(f)\n",
    "\n",
    "with open(\"./log.pt\", 'rb') as f:\n",
    "    log = torch.load(f)"
   ]
  },
  {
   "cell_type": "code",
   "execution_count": null,
   "metadata": {},
   "outputs": [],
   "source": [
    "aug_sentences, aug_labels = extract_augmentations(responses, label_list)"
   ]
  }
 ],
 "metadata": {
  "language_info": {
   "name": "python"
  },
  "orig_nbformat": 4
 },
 "nbformat": 4,
 "nbformat_minor": 2
}
