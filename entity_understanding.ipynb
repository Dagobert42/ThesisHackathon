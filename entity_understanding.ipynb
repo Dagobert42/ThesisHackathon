{
 "cells": [
  {
   "cell_type": "code",
   "execution_count": null,
   "metadata": {},
   "outputs": [],
   "source": [
    "import openai\n",
    "import os\n",
    "org_key_file = 'org_key'\n",
    "api_key_file = 'api_key'\n",
    "openai.organization = open(org_key_file).read().strip()\n",
    "openai.api_key = open(api_key_file).read().strip()"
   ]
  },
  {
   "cell_type": "code",
   "execution_count": null,
   "metadata": {},
   "outputs": [],
   "source": [
    "from helpers import *\n",
    "from sklearn.model_selection import train_test_split\n",
    "\n",
    "path = \"data/ner_annotations.json\"\n",
    "sentences, all_labels, label_list, label_dict = load_data(path)\n",
    "\n",
    "X_train, X_test, y_train, y_test = train_test_split(\n",
    "    sentences,\n",
    "    all_labels,\n",
    "    test_size=0.66666,\n",
    "    random_state=1\n",
    "    )\n",
    "\n",
    "X_test, X_val, y_test, y_val = train_test_split(\n",
    "    X_test,\n",
    "    y_test,\n",
    "    test_size=0.5,\n",
    "    random_state=1\n",
    "    )"
   ]
  },
  {
   "cell_type": "code",
   "execution_count": null,
   "metadata": {},
   "outputs": [],
   "source": [
    "responses = []\n",
    "log = {\n",
    "    \"n_responses\": 0,\n",
    "    \"completion_tokens\": 0,\n",
    "    \"prompt_tokens\": 0,\n",
    "    \"total_tokens\": 0,\n",
    "    \"errors\" : []\n",
    "    }"
   ]
  },
  {
   "cell_type": "code",
   "execution_count": null,
   "metadata": {},
   "outputs": [],
   "source": [
    "class_exemplars = {}\n",
    "for seed_class in label_list:\n",
    "    class_exemplars[seed_class] = [\n",
    "        (sentence, labels)\n",
    "        for sentence, labels in zip(X_train, y_train)\n",
    "        if seed_class in labels\n",
    "        ]"
   ]
  },
  {
   "cell_type": "code",
   "execution_count": null,
   "metadata": {},
   "outputs": [
    {
     "name": "stdout",
     "output_type": "stream",
     "text": [
      "You are given this set of entities:\n",
      "condition-misc\n",
      "precursor\n",
      "number\n",
      "unspecified-material\n",
      "amount-unit\n",
      "nonrecipe-material\n",
      "amount-misc\n",
      "material-descriptor\n",
      "solvent\n",
      "operation\n",
      "\n",
      "The entities are tagged in the examples in an XML-style.\n",
      "\n",
      "Example 1: Upon <operation> addition </operation> of the <nonrecipe-material> toluene </nonrecipe-material> <material-descriptor> solution </material-descriptor> an <unspecified-material> emulsion </unspecified-material> was <operation> formed </operation> in the vial by <condition-misc> manual </condition-misc> <operation> shaking </operation>.\n",
      "\n",
      "Example 2: The <amount-misc> stoichiometric amount </amount-misc> of starting <unspecified-material> materials </unspecified-material> , such as <precursor> cobaltous acetate </precursor> and <precursor> ferric chloride </precursor> were <operation> taken </operation> in <number> 1 : 1 </number> , <number> 1 : 2 </number> , <number> 1 : 3 </number> and <number> 1 : 4 </number> <amount-unit> M ratios </amount-unit> , respectively , and <operation> dissolved </operation> into <amount-misc> required amount </amount-misc> of <material-descriptor> distilled </material-descriptor> <solvent> water </solvent> to <operation> form </operation> <number> 1 </number> <amount-unit> M </amount-unit> <unspecified-material> solution </unspecified-material>.\n",
      "\n",
      "Give a definition of each entity type and explain why the words from the examples belong to this entity.\n",
      "\n"
     ]
    }
   ],
   "source": [
    "import random\n",
    "\n",
    "seed_class1 = \"nonrecipe-material\"\n",
    "seed_class2 = \"amount-misc\"\n",
    "id1 = random.sample(range(len(class_exemplars[seed_class1])), 1)\n",
    "id2 = random.sample(range(len(class_exemplars[seed_class2])), 1)\n",
    "\n",
    "labels1 = class_exemplars[seed_class1][id1[0]][1]\n",
    "exemplar1 = tag_exemplar(class_exemplars[seed_class1][id1[0]][0], labels1)\n",
    "labels2 = class_exemplars[seed_class2][id2[0]][1]\n",
    "exemplar2 = tag_exemplar(class_exemplars[seed_class2][id2[0]][0], labels2)\n",
    "\n",
    "context_prompt = create_context_prompt(\n",
    "    exemplar1,\n",
    "    labels1,\n",
    "    exemplar2,\n",
    "    labels2,\n",
    "    )\n",
    "print(context_prompt)"
   ]
  },
  {
   "cell_type": "code",
   "execution_count": 1,
   "metadata": {},
   "outputs": [
    {
     "ename": "NameError",
     "evalue": "name 'extract_augmentations' is not defined",
     "output_type": "error",
     "traceback": [
      "\u001b[0;31m---------------------------------------------------------------------------\u001b[0m",
      "\u001b[0;31mNameError\u001b[0m                                 Traceback (most recent call last)",
      "Cell \u001b[0;32mIn[1], line 13\u001b[0m\n\u001b[1;32m     10\u001b[0m \u001b[39mwith\u001b[39;00m \u001b[39mopen\u001b[39m(\u001b[39m\"\u001b[39m\u001b[39m./relation_extractions/20230802-120100_entitiy_relations.pt\u001b[39m\u001b[39m\"\u001b[39m, \u001b[39m'\u001b[39m\u001b[39mrb\u001b[39m\u001b[39m'\u001b[39m) \u001b[39mas\u001b[39;00m f:\n\u001b[1;32m     11\u001b[0m     responses \u001b[39m=\u001b[39m torch\u001b[39m.\u001b[39mload(f)\n\u001b[0;32m---> 13\u001b[0m aug_sentences, aug_labels \u001b[39m=\u001b[39m extract_augmentations(responses, label_list)\n\u001b[1;32m     14\u001b[0m \u001b[39mprint\u001b[39m(\u001b[39mlen\u001b[39m(aug_sentences))\n\u001b[1;32m     15\u001b[0m \u001b[39mfor\u001b[39;00m s \u001b[39min\u001b[39;00m \u001b[39mzip\u001b[39m(aug_sentences[:\u001b[39m3\u001b[39m], aug_labels[:\u001b[39m3\u001b[39m]):\n",
      "\u001b[0;31mNameError\u001b[0m: name 'extract_augmentations' is not defined"
     ]
    }
   ],
   "source": [
    "# context = openai.ChatCompletion.create(\n",
    "#     model=\"gpt-3.5-turbo\",\n",
    "#     messages=[{\"role\" : \"user\", \"content\" : context_prompt}],\n",
    "#     max_tokens=1000,\n",
    "#     temperature=0.7,\n",
    "#     n=1\n",
    "#     )\n",
    "# print(context[\"choices\"][0][\"message\"][\"content\"])\n",
    "import torch\n",
    "with open(\"./relation_extractions/20230802-120100_entitiy_relations.pt\", 'rb') as f:\n",
    "    responses = torch.load(f)\n",
    "\n",
    "print(len(responses))\n",
    "for s in responses:\n",
    "    print()\n",
    "    print(s[\"choices\"][0][\"message\"][\"content\"])"
   ]
  },
  {
   "cell_type": "code",
   "execution_count": null,
   "metadata": {},
   "outputs": [],
   "source": [
    "descriptions = {\n",
    "    'apparatus-unit': \"A unit of measurement used to quantify a capacity or dimension of a synthesis-apparatus. For example, 'kV' can be the unit of measurement for the accelerating voltage of an X-ray measurement apparatus or 'mL' as the unit quantifying the capacity of an autoclave\",\n",
    "    'characterization-apparatus': \"A tool or instrument used for characterizing or analyzing the properties or characteristics of a material. For example, an 'X-ray measurement' apparatus used for elemental mapping or 'XRF' indicating that X-ray fluorescence spectroscopy was used to analyze the chemical composition of a precursor\",\n",
    "    'apparatus-property-type': \"A specific type of property or characteristic associated with an apparatus. For example, 'capacity' is a property type associated with an autoclave or the 'amplitude' representing the intensity or strength of a sonication.\",\n",
    "    'condition-type': \"This entity refers to a specific condition or parameter related to an experiment or process. For example, 'applied voltage' is a condition type associated with the electrospinning process.\",\n",
    "    'number': \"Numerical values. For example, words like '14.7', '1', '2.5', and '10000' are number entities as representing specific quantities or measurements.\",\n",
    "    'unspecified-material': \"A material that is not explicitly specified or described. For example, 'solution' and 'mixture' refer to unspecified materials.\",\n",
    "    'material': \"A substance or matter that can undergo chemical reactions or be used to create products. For example, 'MnP' is a specific material used for membranes.\",\n",
    "    'synthesis-apparatus': \"The equipment used for synthesis or production of a material. For example, 'syringe pump' and 'jet' are synthesis apparatuses used in the electrospinning process.\",\n",
    "    'material-descriptor': \"Descriptions or characteristics of a substance or material. Words like 'green' and 'poly(vinyl alcohol)' describe the nature of the materials involved. Or 'aqueous solution' can be a material descriptor for an unspecified-material.\",\n",
    "    'condition-unit': \"Units of measurement for specific conditions or processes. For example, 'K' (Kelvin) and 'h' (hour) describe the temperature and duration of the sintering process.\",\n",
    "    'operation': \"Actions or processes performed on the entities or substances. For example, words like 'dissolved', 'stirring', and 'mixed' are all examples of operations carried out during the synthesis or reaction processes.\",\n",
    "    'apparatus-descriptor': \"Describes the characteristics or properties of a specific apparatus or equipment. For example, '200-mesh' specifies the mesh size of a screen used during the sieving operation.\",\n",
    "    'precursor': \"A substance or compound that is used as a starting material or ingredient in a chemical reaction or synthesis process. For example, words like 'manganese acetate tetrahydrate' and 'oleic acid' can be precursors if they are the starting materials for a chemical reaction or process.\",\n",
    "    'condition-misc': \"Miscellaneous conditions or factors that are relevant to the context. For example, 'magnetic' describes the condition under which the stirring is performed and 'vigorous' and 'homogeneous' are mentioned as miscellaneous conditions describing the stirring and dispersion of precursors.\",\n",
    "    'property-misc': \"Miscellaneous properties or characteristics of a substance or material. For example, 'cobalt-based' and 'catalyst' describe the nature of a reference material such as 'Au / AC'.\",\n",
    "    'target': \"The desired or intended outcome or product of a process or reaction. For example, 'Au / AC', 'Co / SiO2' and 'zinc oxide' represent target entities if they are the desired material to be prepared. Targets are often mentioned in the title or headline of a recipe.\",\n",
    "    'amount-unit': \"The unit of measurement for a quantity. For example, words like 'g', 'ml', 'L', 'μg mL-1', 'wt %', and 'MW' are specifying the unit in which a quantity is measured.\",\n",
    "    'reference': \"Citations of a source that provides additional information or support for a statement or procedure. For example, 'Biella et al. 12' or '[12]' represent reference entities linking to a source.\",\n",
    "    'solvent': \"A substance in which another substance is dissolved or mixed, typically in liquid form. 'methanol', 'water', 'H2O' or 'HF' are examples of solvents.\",\n",
    "    'gas': \"Represents a type of gas used in a chemical process or reaction. For example, 'argon' is the gas used during a heating process.\",\n",
    "    'property-type': \"A specific characteristic or quality of a material that can be observed. For example, 'diameter' and 'thickness' are used to describe the dimensions of pellets, while 'morphology' refers to the shape or form of nanostructures.\",\n",
    "    'property-unit': \"Represents the unit of measurement used to quantify a property. For example, 'mm' (millimeter) is used to measure the diameter and thickness of pellets.\",\n",
    "    'brand': \"The brand or manufacturer of materials or equipment. For example, 'Bunkokeiki' is the brand of a characterization apparatus used for measurements.\",\n",
    "    'meta': \"A word or phrase that provides additional information or context about a process or experiment. For example, 'simple hydrothermal method' is meta-information on the preparation method for ferromagnetic nano-sized material.\",\n",
    "    'nonrecipe-material': 'This entity type refers to materials that are not part of a specified recipe or procedure. For example, \"toluene\" is tagged as nonrecipe-material because it is mentioned as a material added without being part of a specific recipe.',\n",
    "    'amount-misc': 'This entity type refers to miscellaneous mentions of quantities or amounts. For example, \"stoichiometric amount\" and \"required amount\" are tagged as amount-misc because they indicate unspecified quantities of starting materials and solvent, respectively.'\n",
    "}"
   ]
  }
 ],
 "metadata": {
  "kernelspec": {
   "display_name": "py39",
   "language": "python",
   "name": "python3"
  },
  "language_info": {
   "codemirror_mode": {
    "name": "ipython",
    "version": 3
   },
   "file_extension": ".py",
   "mimetype": "text/x-python",
   "name": "python",
   "nbconvert_exporter": "python",
   "pygments_lexer": "ipython3",
   "version": "3.9.16"
  },
  "orig_nbformat": 4
 },
 "nbformat": 4,
 "nbformat_minor": 2
}
